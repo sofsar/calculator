{
 "cells": [
  {
   "cell_type": "markdown",
   "id": "bf9d3849",
   "metadata": {},
   "source": [
    "# Calculator\n",
    "Simple calculator:\n",
    "   * supports float numbers and the 4 basic operations\n"
   ]
  },
  {
   "cell_type": "code",
   "execution_count": 1,
   "id": "a119d96b",
   "metadata": {},
   "outputs": [
    {
     "name": "stdout",
     "output_type": "stream",
     "text": [
      "Enter your first number: 4\n",
      "If you want to add, enter +\n",
      "If you want to subtract, enter -\n",
      "If you want to multiply, enter *\n",
      "If you want to divide, enter /\n",
      "Select your operator: *\n",
      "Enter your second number: 3\n",
      "4 * 3 = 12\n"
     ]
    }
   ],
   "source": [
    "def main ():\n",
    "    n1 = float(input(\"Enter your first number: \"))\n",
    "    print(\"If you want to add, enter +\")\n",
    "    print(\"If you want to subtract, enter -\")\n",
    "    print(\"If you want to multiply, enter *\")\n",
    "    print(\"If you want to divide, enter /\")\n",
    "    calculo = input(\"Select your operator: \")\n",
    "    n2 = float(input(\"Enter your second number: \"))\n",
    "\n",
    "    if calculo == \"+\":\n",
    "        addition = n1 + n2\n",
    "        print(f'{n1:g}',\"+\",f'{n2:g}',\"=\",f'{addition:g}')\n",
    "    elif calculo == \"-\":\n",
    "        subtraction = n1 - n2\n",
    "        print(f'{n1:g}',\"-\",f'{n2:g}',\"=\",f'{subtraction:g}')\n",
    "    elif calculo == \"*\":\n",
    "        multiplication = n1 * n2\n",
    "        print(f'{n1:g}',\"*\",f'{n2:g}',\"=\",f'{multiplication:g}')\n",
    "    elif calculo == \"/\":\n",
    "        division = n1 / n2\n",
    "        print(f'{n1:g}',\"/\",f'{n2:g}',\"=\",f'{division:g}')\n",
    "    else:\n",
    "        print(\"Please try again.\")\n",
    "    \n",
    "main()"
   ]
  }
 ],
 "metadata": {
  "kernelspec": {
   "display_name": "Python 3",
   "language": "python",
   "name": "python3"
  },
  "language_info": {
   "codemirror_mode": {
    "name": "ipython",
    "version": 3
   },
   "file_extension": ".py",
   "mimetype": "text/x-python",
   "name": "python",
   "nbconvert_exporter": "python",
   "pygments_lexer": "ipython3",
   "version": "3.8.8"
  }
 },
 "nbformat": 4,
 "nbformat_minor": 5
}
